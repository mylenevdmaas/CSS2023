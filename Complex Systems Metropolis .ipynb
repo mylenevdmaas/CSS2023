{
 "cells": [
  {
   "cell_type": "code",
   "execution_count": 107,
   "id": "a36ed5f0",
   "metadata": {},
   "outputs": [],
   "source": [
    "import numpy as np\n",
    "import random\n",
    "import matplotlib.pyplot as plt\n",
    "from numba import jit\n",
    "import time\n",
    "import pandas as pd"
   ]
  },
  {
   "cell_type": "code",
   "execution_count": 108,
   "id": "83002807",
   "metadata": {},
   "outputs": [
    {
     "name": "stdout",
     "output_type": "stream",
     "text": [
      "0     0.000000\n",
      "1     0.114779\n",
      "2     0.633831\n",
      "3     0.105549\n",
      "4     0.001607\n",
      "        ...   \n",
      "87    0.000000\n",
      "88    0.058762\n",
      "89    0.002390\n",
      "90    0.001271\n",
      "91    0.000000\n",
      "Name: Precentral_L, Length: 92, dtype: float64\n"
     ]
    }
   ],
   "source": [
    "dti_matrix = pd.read_csv('DTI_avg_matrix_2.csv')\n",
    "#first_column = dti_matrix.iloc[:, 0]\n",
    "#print(first_column)\n",
    "first_column = dti_matrix['Precentral_L']\n",
    "print(first_column)"
   ]
  },
  {
   "cell_type": "code",
   "execution_count": 109,
   "id": "fb4552c0",
   "metadata": {},
   "outputs": [],
   "source": [
    "n = 92\n",
    "dti_c_matrix = dti_matrix.values"
   ]
  },
  {
   "cell_type": "code",
   "execution_count": 110,
   "id": "bd2b43bf",
   "metadata": {},
   "outputs": [],
   "source": [
    "def create_nodes(n):\n",
    "    values = []\n",
    "    for i in range(n):\n",
    "        value = random.choice([1, -1])\n",
    "        values.append(value)\n",
    "    return values"
   ]
  },
  {
   "cell_type": "code",
   "execution_count": 111,
   "id": "a9b803b4",
   "metadata": {},
   "outputs": [],
   "source": [
    "def conn_matrix(n):\n",
    "    conn_matrix = np.random.uniform(0, 1, size=(n, n))\n",
    "    conn_matrix = (conn_matrix + conn_matrix.T) / 2\n",
    "    np.fill_diagonal(conn_matrix, 0)\n",
    "    max_conn = np.max(conn_matrix)\n",
    "    conn_matrix = conn_matrix / max_conn\n",
    "    return conn_matrix"
   ]
  },
  {
   "cell_type": "code",
   "execution_count": 112,
   "id": "4eafeafd",
   "metadata": {},
   "outputs": [],
   "source": [
    "def energy_diff(list, c_matrix):\n",
    "    pos = random.randint(0, n - 1)\n",
    "    nodes_without_pos = [x for x in range(n) if x != pos]\n",
    "    delta_E = 0\n",
    "    for i in nodes_without_pos:\n",
    "        add = list[pos]*list[i]*c_matrix[pos, i]\n",
    "        delta_E += add\n",
    "    return delta_E, pos"
   ]
  },
  {
   "cell_type": "code",
   "execution_count": 113,
   "id": "cb5b86b6",
   "metadata": {},
   "outputs": [],
   "source": [
    "def metropolis(list, n_iterations, T, c_matrix):\n",
    "    node_list = list\n",
    "    magnetisation_list = []\n",
    "    for i in range(n_iterations):\n",
    "        diff = energy_diff(node_list, c_matrix)\n",
    "        #print(diff)\n",
    "        if diff[0] <= 0:\n",
    "            if node_list[diff[1]] == 1: #flip at pos\n",
    "                node_list[diff[1]] = -1\n",
    "            else:\n",
    "                node_list[diff[1]] = 1\n",
    "        else:\n",
    "            if random.random() < np.exp(-diff[0]/T):\n",
    "                if node_list[diff[1]] == 1:\n",
    "                    node_list[diff[1]] = -1\n",
    "                else:\n",
    "                    node_list[diff[1]] = 1\n",
    "\n",
    "        magnetisation = abs(np.mean(node_list))\n",
    "        magnetisation_list.append(magnetisation)\n",
    "    magnetisation_list = magnetisation_list[500:] #disregard first 500\n",
    "    avg_magnetisation = np.mean(magnetisation_list) \n",
    "    \n",
    "    mean_of_squared = np.mean([M**2 for M in magnetisation_list])\n",
    "    susceptibility = (mean_of_squared - avg_magnetisation**2)/T\n",
    "\n",
    "    return node_list, avg_magnetisation, susceptibility"
   ]
  },
  {
   "cell_type": "code",
   "execution_count": 114,
   "id": "ab4872ed",
   "metadata": {},
   "outputs": [],
   "source": [
    "def multi_metropolis(n_simulations, n_iterations, T):\n",
    "    list_avg_magnetisation = []\n",
    "    list_sus = []\n",
    "    c_matrix = dti_c_matrix # remember to change if not using connectome\n",
    "    for i in range(n_simulations):\n",
    "        nodes = create_nodes(n)\n",
    "        #c_matrix = conn_matrix(n)\n",
    "        node_list, avg_magnetisation, susceptibility = metropolis(nodes, n_iterations, T, c_matrix) \n",
    "        list_avg_magnetisation.append(avg_magnetisation)\n",
    "        list_sus.append(susceptibility)\n",
    "\n",
    "    mean_magnet = np.mean(list_avg_magnetisation)\n",
    "    std_magnet = np.std(list_avg_magnetisation)\n",
    "    \n",
    "    mean_sus = np.mean(list_sus)\n",
    "    std_sus = np.std(list_sus)\n",
    "    \n",
    "    return mean_magnet, std_magnet, mean_sus, std_sus"
   ]
  },
  {
   "cell_type": "code",
   "execution_count": 115,
   "id": "9666adc2",
   "metadata": {},
   "outputs": [],
   "source": [
    "temperatures = np.linspace(0.01, 50, 50)\n",
    "n_simulations = 10\n",
    "n_iterations = 1500\n",
    "\n",
    "def magnetisation_plotting(n_simulations, n_iterations):\n",
    "    means_mag = []\n",
    "    stds_mag = []\n",
    "    means_sus = []\n",
    "    stds_sus = []\n",
    "    for T in temperatures:\n",
    "        mean_mag, std_mag, mean_sus, std_sus = multi_metropolis(n_simulations, n_iterations, T)\n",
    "        means_mag.append(mean_mag)\n",
    "        stds_mag.append(std_mag)\n",
    "        means_sus.append(mean_sus)\n",
    "        stds_sus.append(std_sus)\n",
    "    \n",
    "    lower_bound = np.subtract(means_mag, stds_mag)\n",
    "    upper_bound = np.add(means_mag, stds_mag)\n",
    "    plt.plot(temperatures, means_mag)\n",
    "    plt.fill_between(temperatures, lower_bound, upper_bound, alpha=0.3)\n",
    "    plt.xlabel('T')\n",
    "    plt.ylabel('M')\n",
    "    plt.grid()\n",
    "    plt.show()\n",
    "    \n",
    "    lower_bound = np.subtract(means_sus, stds_sus)\n",
    "    upper_bound = np.add(means_sus, stds_sus)\n",
    "    plt.plot(temperatures, means_sus)\n",
    "    plt.fill_between(temperatures, lower_bound, upper_bound, alpha=0.3)\n",
    "    plt.xlabel('T')\n",
    "    plt.ylabel('Susceptibility')\n",
    "    plt.grid()\n",
    "    plt.show()"
   ]
  },
  {
   "cell_type": "code",
   "execution_count": 116,
   "id": "e034a331",
   "metadata": {},
   "outputs": [
    {
     "data": {
      "image/png": "[encoded data removed]",
      "text/plain": [
       "<Figure size 640x480 with 1 Axes>"
      ]
     },
     "metadata": {},
     "output_type": "display_data"
    },
    {
     "data": {
      "image/png": "[encoded data removed]",
      "text/plain": [
       "<Figure size 640x480 with 1 Axes>"
      ]
     },
     "metadata": {},
     "output_type": "display_data"
    },
    {
     "name": "stdout",
     "output_type": "stream",
     "text": [
      "53.8578519821167\n"
     ]
    }
   ],
   "source": [
    "start_time = time.time()\n",
    "\n",
    "magnetisation_plotting(10, 2000)\n",
    "\n",
    "end_time = time.time()\n",
    "print(end_time - start_time)"
   ]
  },
  {
   "cell_type": "code",
   "execution_count": null,
   "id": "9109b9be",
   "metadata": {},
   "outputs": [],
   "source": []
  },
  {
   "cell_type": "code",
   "execution_count": null,
   "id": "4c5bbcdb",
   "metadata": {},
   "outputs": [],
   "source": []
  }
 ],
 "metadata": {
  "kernelspec": {
   "display_name": "Python 3 (ipykernel)",
   "language": "python",
   "name": "python3"
  },
  "language_info": {
   "codemirror_mode": {
    "name": "ipython",
    "version": 3
   },
   "file_extension": ".py",
   "mimetype": "text/x-python",
   "name": "python",
   "nbconvert_exporter": "python",
   "pygments_lexer": "ipython3",
   "version": "3.9.13"
  }
 },
 "nbformat": 4,
 "nbformat_minor": 5
}
